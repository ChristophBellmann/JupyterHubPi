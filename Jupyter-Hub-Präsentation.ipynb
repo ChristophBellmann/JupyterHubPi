{
 "cells": [
  {
   "cell_type": "markdown",
   "id": "73fc91d8-767a-4022-9e8a-17e4561799e9",
   "metadata": {
    "editable": true,
    "slideshow": {
     "slide_type": "slide"
    },
    "tags": []
   },
   "source": [
    "# Jupyter Hub als Collaborationsplattform"
   ]
  },
  {
   "cell_type": "markdown",
   "id": "8b7ed03a-9cba-4f1a-9845-8cee23afab1f",
   "metadata": {
    "editable": true,
    "slideshow": {
     "slide_type": "slide"
    },
    "tags": []
   },
   "source": [
    "## Was ist Jupyter-Hub"
   ]
  },
  {
   "cell_type": "markdown",
   "id": "35290018-6540-4dfe-bf37-a7d64cf9b456",
   "metadata": {
    "editable": true,
    "slideshow": {
     "slide_type": "subslide"
    },
    "tags": []
   },
   "source": [
    "Jupyter-Hub bietet die Möglichkeit eines zentralen Jupyter-Servers "
   ]
  },
  {
   "cell_type": "markdown",
   "id": "e688778f-d1e2-4d1a-afed-48d464fada3f",
   "metadata": {
    "editable": true,
    "slideshow": {
     "slide_type": "slide"
    },
    "tags": []
   },
   "source": [
    "## Unterschied Jupyter-Hub und Jupyter-Lab (-Notebook)"
   ]
  },
  {
   "cell_type": "markdown",
   "id": "b4165ed7-151a-4e10-9554-590673a64a39",
   "metadata": {
    "editable": true,
    "slideshow": {
     "slide_type": "fragment"
    },
    "tags": []
   },
   "source": [
    "|             |<font color=red> Jupyter-Hub </font>|<font color=green> Jupyter-lab</font>|\n",
    "|-------------|------------------------------------|-------------------------------------|\n",
    "|Lauf Umgebung|zentraler Server                    | \"Nur\" Lokal                         |\n",
    "|eigene Entwicklungs Umgebung| Ja                  | Ja                                  |\n",
    "|Remotefähigkeit|   Ja                             | Nein (Nicht vorgesehen)             |\n",
    "|Verfügbarkeit|  Lokal / global                    | Nur Lokal                           |  "
   ]
  },
  {
   "cell_type": "markdown",
   "id": "154a42a7-8b72-459a-a260-3c4fda835a19",
   "metadata": {
    "editable": true,
    "slideshow": {
     "slide_type": "slide"
    },
    "tags": []
   },
   "source": [
    "## Wie funktioniert Jupyter-Hub"
   ]
  },
  {
   "cell_type": "markdown",
   "id": "dcdee8ab-8182-409d-a910-68cc4250b610",
   "metadata": {
    "editable": true,
    "slideshow": {
     "slide_type": "fragment"
    },
    "tags": []
   },
   "source": [
    "Jupyter-Hub bietet die möglichkeit kleine Container, welche erst mal getrennt von einander existieren, zunutzen. "
   ]
  },
  {
   "cell_type": "markdown",
   "id": "9f863379-5014-4ddf-9857-f1e2eb26771e",
   "metadata": {
    "editable": true,
    "slideshow": {
     "slide_type": "fragment"
    },
    "tags": []
   },
   "source": [
    "Der vorteil von Jupyter-Hub ist, dass alle Container exakt gleich sind, und global administriert werden, können."
   ]
  },
  {
   "cell_type": "markdown",
   "id": "a65ba57f-c2d5-4322-b3b6-40747cd9b498",
   "metadata": {
    "editable": true,
    "slideshow": {
     "slide_type": "fragment"
    },
    "tags": []
   },
   "source": [
    "Jupyter-Hub nutzt dafür Docker (bzw. Kubernetes)."
   ]
  },
  {
   "cell_type": "markdown",
   "id": "e64c77f9-8125-4045-b5e6-bec5a962b225",
   "metadata": {
    "editable": true,
    "slideshow": {
     "slide_type": "subslide"
    },
    "tags": []
   },
   "source": [
    "1. Ein Nutzer meldet sich bei der IP-Adresse des Servers auf dem (richtigen) Port von Jupyter-Hub "
   ]
  },
  {
   "cell_type": "markdown",
   "id": "3dd84dbd-4a89-4cb4-949b-d1a56d197312",
   "metadata": {
    "editable": true,
    "slideshow": {
     "slide_type": "fragment"
    },
    "tags": []
   },
   "source": [
    "2. Der Jupyter-hub erzeugt ein eigenes Jupyter-lab Umfeld für den Nutzer, und leitet ihn dorthin weiter."
   ]
  },
  {
   "cell_type": "markdown",
   "id": "d60902a1-47df-43c1-bdab-d03cd5e1ed24",
   "metadata": {
    "editable": true,
    "slideshow": {
     "slide_type": "fragment"
    },
    "tags": []
   },
   "source": [
    "3. Der Nutzer hat die möglichkeit auf die Daten im zugeordneten Ordner zuzugreifen."
   ]
  },
  {
   "cell_type": "markdown",
   "id": "b35d8fa3-8ceb-4eb9-b477-25e77725229e",
   "metadata": {
    "editable": true,
    "slideshow": {
     "slide_type": "subslide"
    },
    "tags": []
   },
   "source": [
    "![Jupyter Hub Ablaufschaubild](https://jupyterhub.readthedocs.io/en/latest/_images/jhub-fluxogram.jpeg)"
   ]
  },
  {
   "cell_type": "markdown",
   "id": "6ddb778a-e7e0-4b6f-9bb8-29aa51dcb751",
   "metadata": {
    "editable": true,
    "slideshow": {
     "slide_type": "slide"
    },
    "tags": []
   },
   "source": [
    "## Vorteile von Jupyter-Hub"
   ]
  },
  {
   "cell_type": "markdown",
   "id": "21a82bc6-cdc2-4d7b-968e-17f090c47e63",
   "metadata": {
    "editable": true,
    "slideshow": {
     "slide_type": "fragment"
    },
    "tags": []
   },
   "source": [
    "1. Jeder hat die selbe, zentral administrierte, Jupyter umgebung"
   ]
  },
  {
   "cell_type": "markdown",
   "id": "14013613-1014-451e-9f67-7a331f874e11",
   "metadata": {
    "editable": true,
    "slideshow": {
     "slide_type": "fragment"
    },
    "tags": []
   },
   "source": [
    "2. Wenn es ein Problem gibt kann der Administrator die nötigen Fixes direkt für alle Nutzer durchsetzen"
   ]
  },
  {
   "cell_type": "markdown",
   "id": "e07a0d26-3eb8-4c4e-92aa-1a740589f02a",
   "metadata": {
    "editable": true,
    "slideshow": {
     "slide_type": "fragment"
    },
    "tags": []
   },
   "source": [
    "3. Jeder hat die selbe Umgebung, jeder hat die gleiche Rechenleistung zur verfügung, unabhängig vom Endgerät."
   ]
  },
  {
   "cell_type": "markdown",
   "id": "4fe59db1-92f1-4501-a5f8-d48020d35904",
   "metadata": {
    "editable": true,
    "slideshow": {
     "slide_type": "slide"
    },
    "tags": []
   },
   "source": [
    "## Nachteile von Jupyter-Hub"
   ]
  },
  {
   "cell_type": "markdown",
   "id": "9a729d4b-bae5-48d8-a18a-578c2ca41e06",
   "metadata": {
    "editable": true,
    "slideshow": {
     "slide_type": "fragment"
    },
    "tags": []
   },
   "source": [
    "1. Erfordert wissen im Bereich der Server & Netzwerk Administration"
   ]
  },
  {
   "cell_type": "markdown",
   "id": "67f55f77-481c-44b6-8b8f-ce15ee6c188b",
   "metadata": {
    "editable": true,
    "slideshow": {
     "slide_type": "fragment"
    },
    "tags": []
   },
   "source": [
    "2. Im zweifelsfall Portfreigaben von nöten"
   ]
  },
  {
   "cell_type": "markdown",
   "id": "c6ac229c-ed94-4bf1-a46e-3464a2d31ecd",
   "metadata": {
    "editable": true,
    "slideshow": {
     "slide_type": "fragment"
    },
    "tags": []
   },
   "source": [
    "3. mindestens standart Kenntnisse in Server Administration "
   ]
  },
  {
   "cell_type": "markdown",
   "id": "5eb24799-15ab-4056-a671-681de60a2580",
   "metadata": {
    "editable": true,
    "slideshow": {
     "slide_type": "slide"
    },
    "tags": []
   },
   "source": [
    "## Was ihr benötigt:"
   ]
  },
  {
   "cell_type": "markdown",
   "id": "a9b6047a-fb74-4863-968c-b72971f233e6",
   "metadata": {
    "editable": true,
    "slideshow": {
     "slide_type": "subslide"
    },
    "tags": []
   },
   "source": [
    "### Hardware: "
   ]
  },
  {
   "cell_type": "markdown",
   "id": "efc34dc4-8081-4300-9b5f-dc15fdcfa38b",
   "metadata": {
    "editable": true,
    "slideshow": {
     "slide_type": "fragment"
    },
    "tags": []
   },
   "source": [
    "- Einen Server"
   ]
  },
  {
   "cell_type": "markdown",
   "id": "b336bca9-f420-44b8-a1aa-0bd26dc1766d",
   "metadata": {
    "editable": true,
    "slideshow": {
     "slide_type": "fragment"
    },
    "tags": []
   },
   "source": [
    "- Ein eigenes Netzwerk (Router / Switch / DHCP / ...)"
   ]
  },
  {
   "cell_type": "markdown",
   "id": "adb492af-10cf-4613-86b2-c79c92e4c0f3",
   "metadata": {
    "editable": true,
    "slideshow": {
     "slide_type": "fragment"
    },
    "tags": []
   },
   "source": [
    "- Endgeräte (Laptops etc.)"
   ]
  },
  {
   "cell_type": "markdown",
   "id": "1ccbbad6-b96e-455b-99cd-33801b439362",
   "metadata": {
    "editable": true,
    "slideshow": {
     "slide_type": "subslide"
    },
    "tags": []
   },
   "source": [
    "### Software:"
   ]
  },
  {
   "cell_type": "markdown",
   "id": "fbb330bd-4d08-48e5-9a7a-d2ec21a11205",
   "metadata": {
    "editable": true,
    "slideshow": {
     "slide_type": "fragment"
    },
    "tags": []
   },
   "source": [
    "- Docker:\n",
    " "
   ]
  },
  {
   "cell_type": "markdown",
   "id": "63fcab84-b9c2-4c3e-acbb-c9e99055215b",
   "metadata": {
    "editable": true,
    "slideshow": {
     "slide_type": "fragment"
    },
    "tags": []
   },
   "source": [
    "      - Kubernetes"
   ]
  },
  {
   "cell_type": "markdown",
   "id": "6d1bdfc1-9302-4aa2-820d-ad4bb817d122",
   "metadata": {
    "editable": true,
    "slideshow": {
     "slide_type": "fragment"
    },
    "tags": []
   },
   "source": [
    "      - Docker-Hub"
   ]
  },
  {
   "cell_type": "markdown",
   "id": "4e3e30a0-aa7b-4497-a5a0-16163ef797ed",
   "metadata": {
    "editable": true,
    "slideshow": {
     "slide_type": "fragment"
    },
    "tags": []
   },
   "source": [
    "- Jupyter-Hub Software"
   ]
  },
  {
   "cell_type": "markdown",
   "id": "5873dc8a-ff1b-4844-868c-d576148e8721",
   "metadata": {
    "editable": true,
    "slideshow": {
     "slide_type": "fragment"
    },
    "tags": []
   },
   "source": [
    "<font size=1>\n",
    "In unserem Fall TLJH   <br>\n",
    "(The Littlest Jupyter Hub)  \n",
    "</font>"
   ]
  },
  {
   "cell_type": "markdown",
   "id": "c012dd97-2650-472c-b16c-6671fc98eccc",
   "metadata": {
    "editable": true,
    "slideshow": {
     "slide_type": "fragment"
    },
    "tags": []
   },
   "source": [
    "- Ubuntu / andere Linux Distro"
   ]
  },
  {
   "cell_type": "markdown",
   "id": "42aaef48-c004-4de1-97b9-2abe9d75f765",
   "metadata": {
    "editable": true,
    "slideshow": {
     "slide_type": "fragment"
    },
    "tags": []
   },
   "source": [
    "## Doch jetzt zum Praktischen!"
   ]
  },
  {
   "cell_type": "markdown",
   "id": "2f04bc98-e800-4498-a191-1bd8e17538e5",
   "metadata": {
    "editable": true,
    "slideshow": {
     "slide_type": "fragment"
    },
    "tags": []
   },
   "source": [
    "Wir haben einen Jupyter-Hub dabei!"
   ]
  },
  {
   "cell_type": "markdown",
   "id": "1ccbf5f9-e8c2-49f5-a4f6-d2807a8dec22",
   "metadata": {
    "editable": true,
    "slideshow": {
     "slide_type": "subslide"
    },
    "tags": []
   },
   "source": [
    "## Hardware:"
   ]
  },
  {
   "cell_type": "markdown",
   "id": "824b800c-de06-470f-b4d1-223f1801e09f",
   "metadata": {
    "editable": true,
    "slideshow": {
     "slide_type": "fragment"
    },
    "tags": []
   },
   "source": [
    "- Einen Server: Raspberry Pi"
   ]
  },
  {
   "cell_type": "markdown",
   "id": "da9d14ed-e444-4dbb-87af-f96e35ebe123",
   "metadata": {
    "editable": true,
    "slideshow": {
     "slide_type": "fragment"
    },
    "tags": []
   },
   "source": [
    "- Ein eigenes Netzwerk: Mikrotik\n",
    "  - WLAN: Luca Maassen -ServerWlan\n",
    "  - Passwort: Passwort\n",
    "\n",
    "<img align=\"center\" width=”1000” height=”1000” src='frame.png' > "
   ]
  },
  {
   "cell_type": "markdown",
   "id": "cbbe9884-6956-4ec3-a5ff-cb7213c167a7",
   "metadata": {
    "editable": true,
    "slideshow": {
     "slide_type": "fragment"
    },
    "tags": []
   },
   "source": [
    "- Endgeräte (Laptops etc.) Was auch immer ihr habt"
   ]
  }
 ],
 "metadata": {
  "kernelspec": {
   "display_name": "Python 3 (ipykernel)",
   "language": "python",
   "name": "python3"
  },
  "language_info": {
   "codemirror_mode": {
    "name": "ipython",
    "version": 3
   },
   "file_extension": ".py",
   "mimetype": "text/x-python",
   "name": "python",
   "nbconvert_exporter": "python",
   "pygments_lexer": "ipython3",
   "version": "3.10.12"
  },
  "toc": {
   "base_numbering": 0
  }
 },
 "nbformat": 4,
 "nbformat_minor": 5
}
