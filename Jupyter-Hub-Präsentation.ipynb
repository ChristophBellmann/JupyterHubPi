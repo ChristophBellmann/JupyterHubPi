{
 "cells": [
  {
   "cell_type": "markdown",
   "id": "73fc91d8-767a-4022-9e8a-17e4561799e9",
   "metadata": {
    "editable": true,
    "slideshow": {
     "slide_type": "slide"
    },
    "tags": []
   },
   "source": [
    "# Jupyter Hub als Collaborationsplattform"
   ]
  },
  {
   "cell_type": "markdown",
   "id": "8b7ed03a-9cba-4f1a-9845-8cee23afab1f",
   "metadata": {
    "editable": true,
    "slideshow": {
     "slide_type": "slide"
    },
    "tags": []
   },
   "source": [
    "## Was ist Jupyter-Hub"
   ]
  },
  {
   "cell_type": "markdown",
   "id": "35290018-6540-4dfe-bf37-a7d64cf9b456",
   "metadata": {
    "editable": true,
    "slideshow": {
     "slide_type": "subslide"
    },
    "tags": []
   },
   "source": [
    "Jupyter-Hub bietet die Möglichkeit eines zentralen Jupyter-Servers "
   ]
  },
  {
   "cell_type": "markdown",
   "id": "154a42a7-8b72-459a-a260-3c4fda835a19",
   "metadata": {
    "editable": true,
    "slideshow": {
     "slide_type": ""
    },
    "tags": []
   },
   "source": [
    "## Wie funktioniert Jupyter-Hub"
   ]
  },
  {
   "cell_type": "markdown",
   "id": "dcdee8ab-8182-409d-a910-68cc4250b610",
   "metadata": {
    "editable": true,
    "slideshow": {
     "slide_type": "fragment"
    },
    "tags": []
   },
   "source": [
    "Jupyter-Hub bietet die möglichkeit kleine Container, welche erst mal getrennt von einander existieren, zunutzen. "
   ]
  },
  {
   "cell_type": "markdown",
   "id": "9f863379-5014-4ddf-9857-f1e2eb26771e",
   "metadata": {
    "editable": true,
    "slideshow": {
     "slide_type": "fragment"
    },
    "tags": []
   },
   "source": [
    "Der vorteil von Jupyter-Hub ist, dass alle Container exakt gleich sind, und global administriert werden, können."
   ]
  },
  {
   "cell_type": "markdown",
   "id": "a65ba57f-c2d5-4322-b3b6-40747cd9b498",
   "metadata": {
    "editable": true,
    "slideshow": {
     "slide_type": ""
    },
    "tags": []
   },
   "source": [
    "Jupyter-Hub nutzt dafür Docker (bzw. Kubernetes)."
   ]
  },
  {
   "cell_type": "markdown",
   "id": "e64c77f9-8125-4045-b5e6-bec5a962b225",
   "metadata": {
    "editable": true,
    "slideshow": {
     "slide_type": "fragment"
    },
    "tags": []
   },
   "source": [
    "1. Ein Nutzer meldet sich bei der IP-Adresse des Servers auf dem (richtigen) Port von Jupyter-Hub "
   ]
  },
  {
   "cell_type": "markdown",
   "id": "3dd84dbd-4a89-4cb4-949b-d1a56d197312",
   "metadata": {
    "editable": true,
    "slideshow": {
     "slide_type": "fragment"
    },
    "tags": []
   },
   "source": [
    "2. Der Jupyter-hub "
   ]
  },
  {
   "cell_type": "markdown",
   "id": "5eb24799-15ab-4056-a671-681de60a2580",
   "metadata": {
    "editable": true,
    "slideshow": {
     "slide_type": ""
    },
    "tags": []
   },
   "source": [
    "## Was ihr benötigt:"
   ]
  },
  {
   "cell_type": "markdown",
   "id": "efc34dc4-8081-4300-9b5f-dc15fdcfa38b",
   "metadata": {
    "editable": true,
    "slideshow": {
     "slide_type": "subslide"
    },
    "tags": []
   },
   "source": [
    "- Einen Server"
   ]
  },
  {
   "cell_type": "markdown",
   "id": "b336bca9-f420-44b8-a1aa-0bd26dc1766d",
   "metadata": {
    "editable": true,
    "slideshow": {
     "slide_type": ""
    },
    "tags": []
   },
   "source": [
    "- Ein eigenes Netzwerk"
   ]
  },
  {
   "cell_type": "markdown",
   "id": "adb492af-10cf-4613-86b2-c79c92e4c0f3",
   "metadata": {
    "editable": true,
    "slideshow": {
     "slide_type": ""
    },
    "tags": []
   },
   "source": [
    "- Endgeräte (Laptops etc.)"
   ]
  },
  {
   "cell_type": "markdown",
   "id": "1ccbbad6-b96e-455b-99cd-33801b439362",
   "metadata": {
    "editable": true,
    "slideshow": {
     "slide_type": ""
    },
    "tags": []
   },
   "source": []
  }
 ],
 "metadata": {
  "kernelspec": {
   "display_name": "",
   "name": ""
  },
  "language_info": {
   "name": ""
  },
  "toc": {
   "base_numbering": 0
  }
 },
 "nbformat": 4,
 "nbformat_minor": 5
}
